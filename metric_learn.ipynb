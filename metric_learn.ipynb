{
 "cells": [
  {
   "cell_type": "code",
   "execution_count": 1,
   "metadata": {},
   "outputs": [],
   "source": [
    "%matplotlib inline\n",
    "import numpy as np\n",
    "import cv2\n",
    "import os\n",
    "\n",
    "import time\n",
    "from tqdm import tqdm\n",
    "\n",
    "\n",
    "\n",
    "import matplotlib.pyplot as plt\n",
    "\n",
    "import pywt\n",
    "\n",
    "import re"
   ]
  },
  {
   "cell_type": "code",
   "execution_count": 2,
   "metadata": {},
   "outputs": [],
   "source": [
    "import numpy as np\n",
    "import astra\n",
    "\n",
    "def reconstruct_volume(projections, num_slices, num_rows, num_cols, num_projections):\n",
    "    # Geometric parameters\n",
    "    origin_det = 1040 - 570\n",
    "    source_origin = 570\n",
    "    angles = np.linspace(0, 2 * np.pi, num_projections, endpoint=False)\n",
    "\n",
    "    # Create projection geometry\n",
    "    \n",
    "\n",
    "    # Create volume geometry\n",
    "    FOV = (1*512)*source_origin/(2*np.sqrt((1*512)**2/4+(source_origin+origin_det)**2))\n",
    "    vol_geom = astra.create_vol_geom(512, 512, 512, -FOV, FOV, -FOV, FOV, -FOV, FOV)\n",
    "    proj_geom = astra.create_proj_geom('cone', 1, 1, num_rows, num_cols, angles, source_origin, origin_det)\n",
    "\n",
    "    # Create data object for the projection data\n",
    "    projections_id = astra.data3d.create('-proj3d', proj_geom, projections)\n",
    "\n",
    "    # Set up and run the reconstruction algorithm\n",
    "    cfg = astra.astra_dict('FDK_CUDA')\n",
    "    cfg['ReconstructionDataId'] = astra.data3d.create('-vol', vol_geom)\n",
    "    cfg['ProjectionDataId'] = projections_id\n",
    "\n",
    "    alg_id = astra.algorithm.create(cfg)\n",
    "    astra.algorithm.run(alg_id, 150)\n",
    "\n",
    "    # Get the reconstructed volume\n",
    "    reconstructed_volume = astra.data3d.get(cfg['ReconstructionDataId'])\n",
    "\n",
    "    # Clean up\n",
    "    astra.algorithm.delete(alg_id)\n",
    "    astra.data3d.delete(projections_id)\n",
    "    astra.data3d.delete(cfg['ReconstructionDataId'])\n",
    "\n",
    "    return reconstructed_volume"
   ]
  },
  {
   "cell_type": "code",
   "execution_count": 3,
   "metadata": {},
   "outputs": [],
   "source": [
    "def calculate_mse(image_a, image_b):\n",
    "    \n",
    "    squared_diff = (image_a - image_b) ** 2\n",
    "\n",
    "    mse = np.mean(squared_diff)\n",
    "    return mse"
   ]
  },
  {
   "cell_type": "code",
   "execution_count": 4,
   "metadata": {},
   "outputs": [],
   "source": [
    "def find_paths_with_id(root_directory, list):    \n",
    "    for dirpath, dirnames, filenames in os.walk(root_directory):\n",
    "        for name in dirnames + filenames:\n",
    "            if 'npy' in name:\n",
    "                # Construct the full path and add to list\n",
    "                full_path = os.path.join(dirpath, name)\n",
    "                img = np.load(full_path)\n",
    "                list.append(img)\n",
    "                "
   ]
  },
  {
   "cell_type": "code",
   "execution_count": 41,
   "metadata": {},
   "outputs": [],
   "source": [
    "dic = '/home/haoran/task1/proj4/clean'\n",
    "projections = []\n",
    "find_paths_with_id(dic, projections)"
   ]
  },
  {
   "cell_type": "code",
   "execution_count": 42,
   "metadata": {},
   "outputs": [],
   "source": [
    "dic = '/home/haoran/task1/proj4/scatter'\n",
    "projections_ = []\n",
    "find_paths_with_id(dic, projections_)"
   ]
  },
  {
   "cell_type": "code",
   "execution_count": 43,
   "metadata": {},
   "outputs": [
    {
     "data": {
      "text/plain": [
       "56"
      ]
     },
     "execution_count": 43,
     "metadata": {},
     "output_type": "execute_result"
    }
   ],
   "source": [
    "len(projections)"
   ]
  },
  {
   "cell_type": "code",
   "execution_count": 44,
   "metadata": {},
   "outputs": [],
   "source": [
    "image = np.transpose(projections_[6], (1,0,2))\n",
    "recon = reconstruct_volume(image, 128, 512, 512, 32)"
   ]
  },
  {
   "cell_type": "code",
   "execution_count": 45,
   "metadata": {},
   "outputs": [],
   "source": [
    "image1 = np.transpose(projections[6], (1,0,2))\n",
    "recon1 = reconstruct_volume(image1, 128, 512, 512, 32)"
   ]
  },
  {
   "cell_type": "code",
   "execution_count": 46,
   "metadata": {},
   "outputs": [],
   "source": [
    "temp = recon1 - recon"
   ]
  },
  {
   "cell_type": "code",
   "execution_count": 51,
   "metadata": {},
   "outputs": [
    {
     "name": "stderr",
     "output_type": "stream",
     "text": [
      "100%|██████████| 56/56 [00:33<00:00,  1.68it/s]\n"
     ]
    }
   ],
   "source": [
    "recons = []\n",
    "\n",
    "for img in tqdm(projections):\n",
    "    image = np.transpose(img, (1,0,2))\n",
    "    recon = reconstruct_volume(image, 128, 512, 512, 32)\n",
    "    recons.append(recon)"
   ]
  },
  {
   "cell_type": "code",
   "execution_count": 52,
   "metadata": {},
   "outputs": [
    {
     "data": {
      "application/vnd.jupyter.widget-view+json": {
       "model_id": "83565ff1fc044e3b850af8bd295be609",
       "version_major": 2,
       "version_minor": 0
      },
      "text/plain": [
       "interactive(children=(IntSlider(value=255, description='index', max=511), Output()), _dom_classes=('widget-int…"
      ]
     },
     "metadata": {},
     "output_type": "display_data"
    },
    {
     "data": {
      "text/plain": [
       "<function __main__.plot_image(index)>"
      ]
     },
     "execution_count": 52,
     "metadata": {},
     "output_type": "execute_result"
    }
   ],
   "source": [
    "def plot_image(index):\n",
    "    plt.imshow(recons[1][index,:,:], cmap='gray')\n",
    "    plt.title(f\"Image {index}\")\n",
    "    plt.colorbar()\n",
    "    plt.show()\n",
    "interact(plot_image, index=(0, recon.shape[0]-1))"
   ]
  },
  {
   "cell_type": "code",
   "execution_count": 53,
   "metadata": {},
   "outputs": [],
   "source": [
    "def wavelet(data):\n",
    "    depth, height, width = data.shape\n",
    " \n",
    "    final_data = np.zeros((depth, height , width))\n",
    "    hh0 = np.zeros((depth, height // 2, width // 2))\n",
    "    hl0 = np.zeros((depth, height // 2, width // 2))\n",
    "    lh0 = np.zeros((depth, height // 2, width // 2))\n",
    "    hh1 = np.zeros((depth, height // 4, width // 4))\n",
    "    hl1 = np.zeros((depth, height // 4, width // 4))\n",
    "    lh1 = np.zeros((depth, height // 4, width // 4))\n",
    "    hh2 = np.zeros((depth, height // 8, width // 8))\n",
    "    hl2 = np.zeros((depth, height // 8, width // 8))\n",
    "    lh2 = np.zeros((depth, height // 8, width // 8))\n",
    "    hh3 = np.zeros((depth, height // 16, width // 16))\n",
    "    hl3 = np.zeros((depth, height // 16, width // 16))\n",
    "    lh3 = np.zeros((depth, height // 16, width // 16))\n",
    "    ll = np.zeros((depth, height // 16, width // 16))\n",
    "    \n",
    "    for z in range(depth):\n",
    "        coeff = pywt.wavedec2(data[z], 'haar', level = 4)\n",
    "        hh0[z] = coeff[4][2]\n",
    "        hl0[z] = coeff[4][1]\n",
    "        lh0[z] = coeff[4][0]\n",
    "        hh1[z] = coeff[3][2]\n",
    "        hl1[z] = coeff[3][1]\n",
    "        lh1[z] = coeff[3][0]\n",
    "        hh2[z] = coeff[2][2]\n",
    "        hl2[z] = coeff[2][1]\n",
    "        lh2[z] = coeff[2][0]\n",
    "        hh3[z] = coeff[1][2]\n",
    "        hl3[z] = coeff[1][1]\n",
    "        lh3[z] = coeff[1][0]\n",
    "        ll[z] = coeff[0]\n",
    "        \n",
    "\n",
    "    return hh0, hl0, lh0, hh1, hl1, lh1, hh2, hl2, lh2, hh3, hl3, lh3, ll\n",
    "\n",
    "       \n",
    "def re_wavelet(final_data):\n",
    "    depth, height, width = final_data.shape\n",
    "    \n",
    "    data = np.zeros((depth, height, width))\n",
    "  \n",
    "    for z in range(depth):\n",
    "        ll = final_data[z, 0:32, 0:32] \n",
    "        hh3 =  final_data[z, 32:64, 32:64]  \n",
    "        hl3 = final_data[z, 32:64, 0:64]  \n",
    "        lh3 = final_data[z, 0:64, 32:64]   \n",
    "\n",
    "        hh2 = final_data[z, 64:128, 64:128] \n",
    "        hl2 = final_data[z, 64:128, 0:128]  \n",
    "        lh2 = final_data[z, 0:128, 64:128]    \n",
    "\n",
    "        hh1 = final_data[z, 128:256, 128:256]  \n",
    "        hl1 = final_data[z, 128:256, 0:256] \n",
    "        lh1 = final_data[z, 0:256, 128:256]  \n",
    "\n",
    "        hh0 = final_data[z, 256:512, 256:512] \n",
    "        hl0 = final_data[z, 256:512, 0:512] \n",
    "        lh0 = final_data[z, 0:512, 256:512] \n",
    "\n",
    "        coeff = [ll, (lh3, hl3, hh3), (lh2, hl2, hh2), (lh1, hl1, hh1), (lh0, hl0, hh0)]\n",
    "        data[z] = pywt.waverec2(coeff, 'haar')\n",
    "\n",
    "        \n",
    "        \n",
    "    return data"
   ]
  },
  {
   "cell_type": "code",
   "execution_count": 54,
   "metadata": {},
   "outputs": [],
   "source": [
    "# original loss matrix\n",
    "ori_loss = []\n",
    "n = len(recons)\n",
    "for i in range(n):\n",
    "    for j in range(i + 1, n):\n",
    "       \n",
    "        mse = calculate_mse(recons[i],recons[j] )\n",
    "        ori_loss.append(mse)\n",
    "\n",
    "\n",
    "wl_input_ll = []\n",
    "wl_input_lh1 = []\n",
    "wl_input_hl1 = []\n",
    "wl_input_hh1 = []\n",
    "\n",
    "wl_input_lh2 = []\n",
    "wl_input_hl2 = []\n",
    "wl_input_hh2 = []\n",
    "\n",
    "wl_input_lh3 = []\n",
    "wl_input_hl3 = []\n",
    "wl_input_hh3 = []\n",
    "\n",
    "wl_input_lh4 = []\n",
    "wl_input_hl4 = []\n",
    "wl_input_hh4 = []\n",
    "\n",
    "for img in projections:\n",
    "\n",
    "    hh0, hl0, lh0, hh1, hl1, lh1, hh2, hl2, lh2, hh3, hl3, lh3, ll = wavelet(img)\n",
    "    \n",
    "    wl_input_lh1.append(lh1)\n",
    "    wl_input_hl1.append(hl1)\n",
    "    wl_input_hh1.append(hh1)\n",
    "    \n",
    "    wl_input_lh2.append(lh2)\n",
    "    wl_input_hl2.append(hl2)\n",
    "    wl_input_hh2.append(hh2)\n",
    "  \n",
    "    wl_input_lh3.append(lh3)\n",
    "    wl_input_hl3.append(hl3)\n",
    "    wl_input_hh3.append(hh3)\n",
    "\n",
    "    wl_input_lh4.append(lh0)\n",
    "    wl_input_hl4.append(hl0)\n",
    "    wl_input_hh4.append(hh0)\n",
    "\n",
    "    wl_input_ll.append(ll)"
   ]
  },
  {
   "cell_type": "code",
   "execution_count": 59,
   "metadata": {},
   "outputs": [],
   "source": [
    "n = len(projections)\n",
    "ll_loss = []\n",
    "for i in range(n):\n",
    "    for j in range(i + 1, n):\n",
    "        mse = calculate_mse(wl_input_ll[i],wl_input_ll[j] )\n",
    "        ll_loss.append(mse)\n",
    "\n",
    "lh_loss1 = []\n",
    "for i in range(n):\n",
    "    for j in range(i + 1, n):\n",
    "        mse = calculate_mse(wl_input_lh1[i],wl_input_lh1[j] )\n",
    "        lh_loss1.append(mse)\n",
    "\n",
    "hl_loss1 = []\n",
    "for i in range(n):\n",
    "    for j in range(i + 1, n):\n",
    "        mse = calculate_mse(wl_input_hl1[i],wl_input_hl1[j] )\n",
    "        hl_loss1.append(mse)\n",
    "\n",
    "hh_loss1 = []\n",
    "for i in range(n):\n",
    "    for j in range(i + 1, n):\n",
    "        mse = calculate_mse(wl_input_hh1[i],wl_input_hh1[j] )\n",
    "        hh_loss1.append(mse)\n",
    "\n",
    "\n",
    "    \n",
    "lh_loss2 = []\n",
    "for i in range(n):\n",
    "    for j in range(i + 1, n):\n",
    "        mse = calculate_mse(wl_input_lh2[i],wl_input_lh2[j] )\n",
    "        lh_loss2.append(mse)\n",
    "\n",
    "hl_loss2 = []\n",
    "for i in range(n):\n",
    "    for j in range(i + 1, n):\n",
    "        mse = calculate_mse(wl_input_hl2[i],wl_input_hl2[j] )\n",
    "        hl_loss2.append(mse)\n",
    "\n",
    "hh_loss2 = []\n",
    "for i in range(n):\n",
    "    for j in range(i + 1, n):\n",
    "        mse = calculate_mse(wl_input_hh2[i],wl_input_hh2[j] )\n",
    "        hh_loss2.append(mse)\n",
    "\n",
    "\n",
    "\n",
    "lh_loss3 = []\n",
    "for i in range(n):\n",
    "    for j in range(i + 1, n):\n",
    "        mse = calculate_mse(wl_input_lh3[i],wl_input_lh3[j] )\n",
    "        lh_loss3.append(mse)\n",
    "\n",
    "hl_loss3 = []\n",
    "for i in range(n):\n",
    "    for j in range(i + 1, n):\n",
    "        mse = calculate_mse(wl_input_hl3[i],wl_input_hl3[j] )\n",
    "        hl_loss3.append(mse)\n",
    "\n",
    "hh_loss3 = []\n",
    "for i in range(n):\n",
    "    for j in range(i + 1, n):\n",
    "        mse = calculate_mse(wl_input_hh3[i],wl_input_hh3[j] )\n",
    "        hh_loss3.append(mse)\n",
    "\n",
    "lh_loss4 = []\n",
    "for i in range(n):\n",
    "    for j in range(i + 1, n):\n",
    "        mse = calculate_mse(wl_input_lh4[i],wl_input_lh4[j] )\n",
    "        lh_loss4.append(mse)\n",
    "\n",
    "hl_loss4 = []\n",
    "for i in range(n):\n",
    "    for j in range(i + 1, n):\n",
    "        mse = calculate_mse(wl_input_hl4[i],wl_input_hl4[j] )\n",
    "        hl_loss4.append(mse)\n",
    "\n",
    "hh_loss4 = []\n",
    "for i in range(n):\n",
    "    for j in range(i + 1, n):\n",
    "        mse = calculate_mse(wl_input_hh4[i],wl_input_hh4[j] )\n",
    "        hh_loss4.append(mse)"
   ]
  },
  {
   "cell_type": "code",
   "execution_count": 60,
   "metadata": {},
   "outputs": [],
   "source": [
    "hh1_loss_array = np.array(hh_loss1)\n",
    "hl1_loss_array = np.array(hl_loss1)\n",
    "lh1_loss_array = np.array(lh_loss1)\n",
    "ll_loss_array = np.array(ll_loss)\n",
    "hh1_loss_array = np.expand_dims(hh1_loss_array, 0)\n",
    "hl1_loss_array = np.expand_dims(hl1_loss_array, 0)\n",
    "lh1_loss_array = np.expand_dims(lh1_loss_array, 0)\n",
    "ll_loss_array = np.expand_dims(ll_loss_array, 0)\n",
    "\n",
    "hh2_loss_array = np.array(hh_loss2)\n",
    "hl2_loss_array = np.array(hl_loss2)\n",
    "lh2_loss_array = np.array(lh_loss2)\n",
    "hh2_loss_array = np.expand_dims(hh2_loss_array, 0)\n",
    "hl2_loss_array = np.expand_dims(hl2_loss_array, 0)\n",
    "lh2_loss_array = np.expand_dims(lh2_loss_array, 0)\n",
    "hh3_loss_array = np.array(hh_loss3)\n",
    "hl3_loss_array = np.array(hl_loss3)\n",
    "lh3_loss_array = np.array(lh_loss3)\n",
    "hh3_loss_array = np.expand_dims(hh3_loss_array, 0)\n",
    "hl3_loss_array = np.expand_dims(hl3_loss_array, 0)\n",
    "lh3_loss_array = np.expand_dims(lh3_loss_array, 0)\n",
    "hh4_loss_array = np.array(hh_loss4)\n",
    "hl4_loss_array = np.array(hl_loss4)\n",
    "lh4_loss_array = np.array(lh_loss4)\n",
    "hh4_loss_array = np.expand_dims(hh4_loss_array, 0)\n",
    "hl4_loss_array = np.expand_dims(hl4_loss_array, 0)\n",
    "lh4_loss_array = np.expand_dims(lh4_loss_array, 0)\n"
   ]
  },
  {
   "cell_type": "code",
   "execution_count": 61,
   "metadata": {},
   "outputs": [],
   "source": [
    "wl_loss = np.concatenate((ll_loss_array, lh1_loss_array, hl1_loss_array,hh1_loss_array,lh2_loss_array, hl2_loss_array, hh2_loss_array,lh3_loss_array, hl3_loss_array, hh3_loss_array,lh4_loss_array, hl4_loss_array, hh4_loss_array), axis=0)"
   ]
  },
  {
   "cell_type": "code",
   "execution_count": 65,
   "metadata": {},
   "outputs": [
    {
     "name": "stdout",
     "output_type": "stream",
     "text": [
      "(13, 1540) (1, 1540)\n",
      "[0.01640215 0.88642817 1.02493439 1.00049816 0.05859909 1.29073107\n",
      " 1.00474506 0.03329308 4.22551831 1.08480266 0.99064101 1.00211827\n",
      " 1.00003911]\n",
      "13.618750518837329\n",
      "[0.00120438 0.0650888  0.07525906 0.07346475 0.00430282 0.09477603\n",
      " 0.0737766  0.00244465 0.3102721  0.07965508 0.07274096 0.07358372\n",
      " 0.07343105]\n",
      "0.9999999999999999\n"
     ]
    }
   ],
   "source": [
    "from tqdm import tqdm\n",
    "from scipy.optimize import minimize\n",
    "ori_loss_array = np.array(ori_loss)\n",
    "ori_loss_array = np.expand_dims(ori_loss_array, 0)\n",
    "ori_loss_train = ori_loss_array\n",
    "\n",
    "# chunk_size = 10\n",
    "\n",
    "def objective_function(a,w,o):\n",
    "    \n",
    "    weighted = np.dot(a, w)\n",
    "    correlation = np.corrcoef(weighted, o)\n",
    "    correlation = - correlation[0, 1]\n",
    "    # diff = (weighted - o)**2\n",
    "    # sum = -np.sum(diff)\n",
    "    \n",
    "    return correlation\n",
    "def sum_constraint(weights):\n",
    "    return np.sum(weights) - 13\n",
    "constr = {'type': 'eq', 'fun': sum_constraint}\n",
    "bounds = [(0, None) for _ in range(13)]\n",
    "array = np.ones((13, 1))\n",
    "array = array.flatten()\n",
    "solutions = []\n",
    "print(wl_loss_train.shape, ori_loss_train.shape)\n",
    "# for epoch in tqdm(range(600)):\n",
    "\n",
    "result = minimize(objective_function,array, (wl_loss_train,ori_loss_train), method='SLSQP',bounds=bounds )\n",
    "\n",
    "optimal = result.x\n",
    "print(optimal)\n",
    "sum = np.sum(optimal)\n",
    "print(sum)\n",
    "optimal = optimal/sum\n",
    "print(optimal)\n",
    "print(np.sum(optimal))\n",
    "\n"
   ]
  },
  {
   "cell_type": "code",
   "execution_count": 66,
   "metadata": {},
   "outputs": [
    {
     "data": {
      "text/plain": [
       "array([0.00120438, 0.0650888 , 0.07525906, 0.07346475, 0.00430282,\n",
       "       0.09477603, 0.0737766 , 0.00244465, 0.3102721 , 0.07965508,\n",
       "       0.07274096, 0.07358372, 0.07343105])"
      ]
     },
     "execution_count": 66,
     "metadata": {},
     "output_type": "execute_result"
    }
   ],
   "source": [
    "optimal"
   ]
  },
  {
   "cell_type": "code",
   "execution_count": 67,
   "metadata": {},
   "outputs": [],
   "source": [
    "def objective_function_test(a):\n",
    "    \n",
    "    weighted = np.dot(a, np.array(wl_loss_train))\n",
    "    # print(a.shape, wl_loss.shape,ori_loss.shape)\n",
    "    correlation = np.corrcoef(weighted, np.array(ori_loss_train))\n",
    "    correlation = correlation[0, 1]\n",
    "    \n",
    "    return correlation  "
   ]
  },
  {
   "cell_type": "code",
   "execution_count": 68,
   "metadata": {},
   "outputs": [],
   "source": [
    "def reevaluate_solutions(solutions):\n",
    "    best_score = 1\n",
    "    best_solution = None\n",
    "\n",
    "    for solution in solutions:\n",
    "   \n",
    "        \n",
    "          \n",
    "            score = objective_function_test(solution)  \n",
    "            score = np.abs(score)\n",
    "\n",
    "            if score < best_score:\n",
    "                best_score = score\n",
    "                best_solution = solution\n",
    "\n",
    "    return best_solution, best_score"
   ]
  },
  {
   "cell_type": "code",
   "execution_count": 69,
   "metadata": {},
   "outputs": [],
   "source": [
    "score = objective_function_test(optimal) "
   ]
  },
  {
   "cell_type": "code",
   "execution_count": 70,
   "metadata": {},
   "outputs": [
    {
     "data": {
      "text/plain": [
       "0.9945057253614422"
      ]
     },
     "execution_count": 70,
     "metadata": {},
     "output_type": "execute_result"
    }
   ],
   "source": [
    "score"
   ]
  },
  {
   "cell_type": "code",
   "execution_count": 71,
   "metadata": {},
   "outputs": [],
   "source": [
    "score = objective_function_test(array) "
   ]
  },
  {
   "cell_type": "code",
   "execution_count": 72,
   "metadata": {},
   "outputs": [
    {
     "data": {
      "text/plain": [
       "0.9223999822275931"
      ]
     },
     "execution_count": 72,
     "metadata": {},
     "output_type": "execute_result"
    }
   ],
   "source": [
    "score"
   ]
  },
  {
   "cell_type": "code",
   "execution_count": 82,
   "metadata": {},
   "outputs": [],
   "source": [
    "from matplotlib.colors import ListedColormap\n",
    "\n",
    "# Get the original colormap\n",
    "original_cmap = plt.cm.viridis\n",
    "\n",
    "# Create a new colormap from the original, including alpha values for transparency\n",
    "colors = original_cmap(np.arange(original_cmap.N))\n",
    "colors[:, -1] = np.linspace(0, 1, original_cmap.N)  # Change alpha values\n",
    "\n",
    "# Create a new colormap object\n",
    "transparent_cmap = ListedColormap('blue')\n"
   ]
  },
  {
   "cell_type": "code",
   "execution_count": 83,
   "metadata": {},
   "outputs": [],
   "source": [
    "cmap = plt.cm.RdBu\n",
    "\n",
    "# Get the colormap colors\n",
    "my_cmap = cmap(np.arange(cmap.N))\n",
    "\n",
    "# Set alpha\n",
    "my_cmap[:,-1] = np.linspace(0, 1, cmap.N)\n",
    "\n",
    "# Create new colormap\n",
    "my_cmap = ListedColormap('blue')\n"
   ]
  },
  {
   "cell_type": "code",
   "execution_count": 99,
   "metadata": {},
   "outputs": [
    {
     "name": "stdout",
     "output_type": "stream",
     "text": [
      "0.9999999999999998\n"
     ]
    },
    {
     "data": {
      "text/plain": [
       "<matplotlib.legend.Legend at 0x7f8616308910>"
      ]
     },
     "execution_count": 99,
     "metadata": {},
     "output_type": "execute_result"
    },
    {
     "data": {
      "image/png": "[encoded data removed]",
      "text/plain": [
       "<Figure size 640x480 with 1 Axes>"
      ]
     },
     "metadata": {},
     "output_type": "display_data"
    }
   ],
   "source": [
    "array = np.ones((13, 1))/13\n",
    "\n",
    "array = array.flatten()\n",
    "print(np.sum(array))\n",
    "weighted = np.dot(optimal, wl_loss)\n",
    "wl_loss2 = np.dot(array, wl_loss)\n",
    "ori_loss = ori_loss_array *10000\n",
    "\n",
    "plt.scatter(wl_loss2, ori_loss, color = 'blue',label='scatter of unweighted loss')\n",
    "plt.scatter(weighted, ori_loss,label='scatter of weighted loss')\n",
    "plt.ylabel(\"pairwise differences in reconstruction domain\")\n",
    "plt.xlabel(\"pairwise differences in wavelet-sinogram domain\")\n",
    "plt.legend()"
   ]
  },
  {
   "cell_type": "code",
   "execution_count": null,
   "metadata": {},
   "outputs": [
    {
     "ename": "ModuleNotFoundError",
     "evalue": "No module named 'pandas'",
     "output_type": "error",
     "traceback": [
      "\u001b[0;31m---------------------------------------------------------------------------\u001b[0m",
      "\u001b[0;31mModuleNotFoundError\u001b[0m                       Traceback (most recent call last)",
      "Cell \u001b[0;32mIn[115], line 2\u001b[0m\n\u001b[1;32m      1\u001b[0m \u001b[39m# %matplotlib widget\u001b[39;00m\n\u001b[0;32m----> 2\u001b[0m \u001b[39mimport\u001b[39;00m \u001b[39mpandas\u001b[39;00m \u001b[39mas\u001b[39;00m \u001b[39mpd\u001b[39;00m\n\u001b[1;32m      3\u001b[0m \u001b[39mimport\u001b[39;00m \u001b[39mmatplotlib\u001b[39;00m\u001b[39m.\u001b[39;00m\u001b[39mpyplot\u001b[39;00m \u001b[39mas\u001b[39;00m \u001b[39mplt\u001b[39;00m\n\u001b[1;32m      4\u001b[0m df \u001b[39m=\u001b[39m pd\u001b[39m.\u001b[39mDataFrame(solutions)\n",
      "\u001b[0;31mModuleNotFoundError\u001b[0m: No module named 'pandas'"
     ]
    }
   ],
   "source": [
    "# %matplotlib widget\n",
    "import pandas as pd\n",
    "import matplotlib.pyplot as plt\n",
    "df = pd.DataFrame(solutions)\n",
    "\n",
    "fig, axes = plt.subplots(4, 4, figsize=(15, 15))  \n",
    "axes = axes.flatten()  \n",
    "\n",
    "for i in range(df.shape[1]):  \n",
    "    axes[i].hist(df[i], bins=20, color='skyblue', edgecolor='black')\n",
    "    axes[i].set_title(f'Dimension {i+1}')\n",
    "    axes[i].set_xlabel('Value')\n",
    "    axes[i].set_ylabel('Frequency')\n",
    "\n",
    "plt.tight_layout()\n",
    "plt.show()"
   ]
  }
 ],
 "metadata": {
  "kernelspec": {
   "display_name": "base",
   "language": "python",
   "name": "python3"
  },
  "language_info": {
   "codemirror_mode": {
    "name": "ipython",
    "version": 3
   },
   "file_extension": ".py",
   "mimetype": "text/x-python",
   "name": "python",
   "nbconvert_exporter": "python",
   "pygments_lexer": "ipython3",
   "version": "3.9.18"
  },
  "orig_nbformat": 4
 },
 "nbformat": 4,
 "nbformat_minor": 2
}
